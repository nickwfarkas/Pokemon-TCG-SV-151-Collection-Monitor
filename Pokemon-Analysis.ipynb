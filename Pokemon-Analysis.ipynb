{
 "cells": [
  {
   "cell_type": "code",
   "execution_count": 85,
   "metadata": {},
   "outputs": [],
   "source": [
    "import pandas as pd\n",
    "import requests"
   ]
  },
  {
   "cell_type": "code",
   "execution_count": 59,
   "metadata": {},
   "outputs": [],
   "source": [
    "api_url = \"https://api.pokemontcg.io/v2/cards?q=set.id:sv3pt5&pageSize=207&select=id,name,number,rarity,tcgplayer\"\n",
    "api_key = ''\n",
    "\n",
    "headers = {\n",
    "    'X-Api-Key': api_key\n",
    "}\n",
    "\n",
    "json_response = None\n",
    "\n",
    "try:\n",
    "    response = requests.get(api_url, headers=headers)\n",
    "    response.raise_for_status()\n",
    "    json_response = response.json()\n",
    "except requests.RequestException as e:\n",
    "    print(f\"Request failed: {e}\")"
   ]
  },
  {
   "cell_type": "code",
   "execution_count": 97,
   "metadata": {},
   "outputs": [],
   "source": [
    "tcgplayer_df = pd.json_normalize(json_response['data'], sep='_')\n",
    "\n",
    "col = [\n",
    " 'tcgplayer_prices_reverseHolofoil_market',\n",
    " 'tcgplayer_prices_normal_market',\n",
    " 'tcgplayer_prices_holofoil_market']\n",
    "\n",
    "tcgplayer_df[\"MP\"] = tcgplayer_df[col].median(axis=1,skipna=True)\n",
    "tcgplayer_df[\"Market Price\"] = tcgplayer_df[\"MP\"].apply(lambda x: \"${:.2f}\".format(x))"
   ]
  },
  {
   "cell_type": "code",
   "execution_count": 98,
   "metadata": {},
   "outputs": [],
   "source": [
    "tcgplayer_df = tcgplayer_df.rename(columns={\"number\":\"ID\",\"name\":\"Card Name\",\"rarity\":\"Rarity\",\"tcgplayer_url\":\"TCG Player URL\"})\n",
    "tcgplayer_df[\"ID\"] = tcgplayer_df[\"ID\"].astype('int64')"
   ]
  },
  {
   "cell_type": "code",
   "execution_count": 88,
   "metadata": {},
   "outputs": [],
   "source": [
    "try:\n",
    "    path = \"C:\\\\Program Files\\\\PokemonInventory\\\\application\\\\Pokemon151Inventory.xlsx\"\n",
    "    path = \"C:\\\\Users\\\\nicho\\\\Downloads\\\\Pokemon\\\\Pokemon151Inventory.xlsx\"\n",
    "    inventory_df = pd.read_excel(path)\n",
    "except FileNotFoundError as e:\n",
    "    print(\"No file\")\n",
    "except Exception as e:\n",
    "    print(e)"
   ]
  },
  {
   "cell_type": "code",
   "execution_count": 99,
   "metadata": {},
   "outputs": [],
   "source": [
    "main_df = pd.merge(tcgplayer_df, inventory_df, how=\"left\", on='ID')\n",
    "outstanding_df = main_df[main_df['Count'] < 1]\n",
    "owned_df = main_df[main_df['Count'] > 0]\n",
    "\n",
    "breakdown_atr = ['ID','Card Name','Rarity',\"Market Price\"]\n",
    "outstanding_cost_breakdown_df = outstanding_df[breakdown_atr]\n",
    "owned_cost_breakdown_df = owned_df[breakdown_atr]"
   ]
  },
  {
   "cell_type": "code",
   "execution_count": 104,
   "metadata": {},
   "outputs": [],
   "source": [
    "n_outstanding = outstanding_df[\"ID\"].count()\n",
    "oustanding_MP = \"${:.2f}\".format(outstanding_df[\"MP\"].sum())\n",
    "n_owned = owned_df[\"ID\"].count()\n",
    "owned_MP = \"${:.2f}\".format(owned_df[\"MP\"].sum())"
   ]
  }
 ],
 "metadata": {
  "kernelspec": {
   "display_name": "Python 3",
   "language": "python",
   "name": "python3"
  },
  "language_info": {
   "codemirror_mode": {
    "name": "ipython",
    "version": 3
   },
   "file_extension": ".py",
   "mimetype": "text/x-python",
   "name": "python",
   "nbconvert_exporter": "python",
   "pygments_lexer": "ipython3",
   "version": "3.11.4"
  },
  "orig_nbformat": 4
 },
 "nbformat": 4,
 "nbformat_minor": 2
}
